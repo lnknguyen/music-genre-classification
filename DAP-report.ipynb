{
 "cells": [
  {
   "cell_type": "markdown",
   "metadata": {},
   "source": [
    "**Machine Learning Basic Principles 2018 - Data Analysis Project Report**"
   ]
  },
  {
   "cell_type": "markdown",
   "metadata": {},
   "source": [
    "# *Music genre classification on unbalanced dataset* "
   ]
  },
  {
   "cell_type": "markdown",
   "metadata": {},
   "source": [
    "## Abstract"
   ]
  },
  {
   "cell_type": "markdown",
   "metadata": {},
   "source": [
    "Music genre classification is a challenging problem in the Machine Learning world. In this project, we propose the process of building and tuning a Machine Learning model that achieved up to an average accuracy of 66% when predicting ten music genres. The process includes features tuning, making algorithms choice, model tuning and enhancing model's accuracy using Voting ensemble and Semi supervised learning."
   ]
  },
  {
   "cell_type": "markdown",
   "metadata": {},
   "source": [
    "## 1. Introduction"
   ]
  },
  {
   "cell_type": "markdown",
   "metadata": {},
   "source": [
    "The rapid evolvement of digital music rises many challenges in efficient uses of the enormous music database, which involve music genre recommendation, mood-based music recommendation etc. Automatic music genre classification emerges as a potential solution for many of those aformentioned tasks. However, given the subjective nature of music, the challenge of building a highly accurate classfication model is daunting one. \n",
    "\n",
    "In this project, we employ the use of various machine learning algorithms, including Random Forest Classfication, multi-class SVM, k-neighbors classifier, Linear Discriminant Analysis to classify the following 10 genres: Pop Rock, Electronic, Rap, Jazz, Latin, RnB, International, Country, Reggae and Blues. To achieve this, we investigate and peform the machine learning algorithms on a relatively big and highly dimensional dataset.\n",
    "\n",
    "Data analytics is challenging since it requires knowledge in many domains, including problem specific knowledge, machine learning, data visualization etc. It goes without saying that the data analytics tasks involve a lot of trial and error, hence acquiring on-hand experience from the early stage will definitely prove valuable in the long run. That said, upon completing the project, we hope to gain an insight into working with a real-world data problem, gaining experience from making mistakes and learning how to tackle a problem from multiple angles. We would like to address the following problems throughout the project:\n",
    "1. How to analize a dataset correctly ?\n",
    "2. Algorithm evaluation.\n",
    "3. Strategies for working with unbalanced dataset ?\n",
    "4. How to improve model accuracy through hyperparemeters tuning and resampling?\n"
   ]
  },
  {
   "cell_type": "markdown",
   "metadata": {},
   "source": [
    "## 2. Data analysis"
   ]
  },
  {
   "cell_type": "code",
   "execution_count": 41,
   "metadata": {
    "deletable": false,
    "nbgrader": {
     "cell_type": "code",
     "checksum": "014a593ce82d342a60d749c7a2c46b7c",
     "grade": true,
     "grade_id": "cell-c3ef844c17cf4a1e",
     "locked": false,
     "points": 1,
     "schema_version": 2,
     "solution": true
    }
   },
   "outputs": [
    {
     "name": "stdout",
     "output_type": "stream",
     "text": [
      "Requirement already satisfied: imblearn in /opt/conda/lib/python3.6/site-packages\n",
      "Requirement already satisfied: imbalanced-learn in /opt/conda/lib/python3.6/site-packages (from imblearn)\n",
      "Requirement already satisfied: numpy>=1.8.2 in /opt/conda/lib/python3.6/site-packages (from imbalanced-learn->imblearn)\n",
      "Requirement already satisfied: scipy>=0.13.3 in /opt/conda/lib/python3.6/site-packages (from imbalanced-learn->imblearn)\n",
      "Requirement already satisfied: scikit-learn>=0.20 in /opt/conda/lib/python3.6/site-packages (from imbalanced-learn->imblearn)\n",
      "\u001b[33mYou are using pip version 9.0.3, however version 18.1 is available.\n",
      "You should consider upgrading via the 'pip install --upgrade pip' command.\u001b[0m\n",
      "Requirement already satisfied: xgboost in /opt/conda/lib/python3.6/site-packages\n",
      "Requirement already satisfied: numpy in /opt/conda/lib/python3.6/site-packages (from xgboost)\n",
      "Requirement already satisfied: scipy in /opt/conda/lib/python3.6/site-packages (from xgboost)\n",
      "\u001b[33mYou are using pip version 9.0.3, however version 18.1 is available.\n",
      "You should consider upgrading via the 'pip install --upgrade pip' command.\u001b[0m\n"
     ]
    }
   ],
   "source": [
    "%matplotlib inline\n",
    "\n",
    "# Import libraries\n",
    "import pandas as pd\n",
    "import numpy as np\n",
    "from matplotlib import pyplot as plt\n",
    "import math\n",
    "import random\n",
    "\n",
    "##Preprocession\n",
    "\n",
    "#Model splitting\n",
    "from sklearn.model_selection import train_test_split\n",
    "from sklearn.model_selection import cross_val_score\n",
    "from sklearn.model_selection import cross_validate\n",
    "\n",
    "##Features tuning\n",
    "\n",
    "#Dimensionality reduction\n",
    "from sklearn.preprocessing import StandardScaler\n",
    "\n",
    "\n",
    "##Params tuning\n",
    "from sklearn.model_selection import GridSearchCV\n",
    "from sklearn.model_selection import RandomizedSearchCV\n",
    "from sklearn.model_selection import StratifiedShuffleSplit\n",
    "\n",
    "#SMOTE\n",
    "!pip install imblearn\n",
    "!pip install xgboost\n",
    "\n",
    "from imblearn.pipeline import Pipeline as imbPipeline\n",
    "\n",
    "from sklearn.linear_model import LinearRegression\n",
    "\n",
    "#Model evaluation\n",
    "from sklearn.metrics import accuracy_score\n",
    "from sklearn.metrics import confusion_matrix\n",
    "from sklearn.metrics import classification_report\n",
    "from sklearn.metrics import balanced_accuracy_score\n",
    "\n",
    "#CV validation\n",
    "from sklearn.model_selection import StratifiedKFold\n",
    "\n",
    "#Pipeline\n",
    "from sklearn.pipeline import Pipeline\n",
    "\n",
    "import warnings\n",
    "\n",
    "#Ignore warning\n",
    "warnings.simplefilter(action='ignore')\n"
   ]
  },
  {
   "cell_type": "code",
   "execution_count": 42,
   "metadata": {},
   "outputs": [],
   "source": [
    "\n",
    "test_data = pd.read_csv(\"test_data.csv\", header=None) \n",
    "train_data = pd.read_csv(\"train_data.csv\", header=None) \n",
    "train_labels = pd.read_csv(\"train_labels.csv\", header=None) \n",
    "\n",
    "X_test = test_data.values # (6544, 264)\n",
    "y_final = np.zeros((X_test.shape[0],1))\n",
    "\n",
    "X = train_data.values # (4363, 264)\n",
    "y = train_labels.values # (4363, 1)\n",
    "\n",
    "genres = ['Pop Rock','Electronic','Rap','Jazz','Latin','RnB','International','Country','Reggae','Blues']"
   ]
  },
  {
   "cell_type": "markdown",
   "metadata": {},
   "source": [
    "The train dataset contains __4363__ samples and __264__ features each. Accordingly, there are __4363__ labels. \n",
    "\n",
    "Before splitting the train dataset into train and validation set, we perform standardization on both the test and training set. \n"
   ]
  },
  {
   "cell_type": "markdown",
   "metadata": {},
   "source": [
    "## 2.1 Feature engineering"
   ]
  },
  {
   "cell_type": "markdown",
   "metadata": {},
   "source": [
    "Firstly, we standardize all features."
   ]
  },
  {
   "cell_type": "code",
   "execution_count": 43,
   "metadata": {},
   "outputs": [
    {
     "data": {
      "text/plain": [
       "array([[ 0.04382574, -0.80976693, -0.94563473, ...,  1.64699758,\n",
       "         0.15993277,  1.25380542],\n",
       "       [-0.76499397, -0.76013062, -1.31811073, ...,  1.20939201,\n",
       "         1.32983447,  0.43684169],\n",
       "       [-1.11109711, -0.39532397, -0.27109317, ..., -0.18441099,\n",
       "        -0.86473105, -0.88355397],\n",
       "       ..., \n",
       "       [-1.28590284, -1.45941064, -1.6464014 , ..., -1.18319724,\n",
       "        -0.82856509, -1.26701448],\n",
       "       [ 0.65831516, -0.06744188, -0.58738386, ...,  0.19591376,\n",
       "         0.23295355, -0.20519107],\n",
       "       [-0.81487309, -0.39310446, -0.42717229, ..., -0.33385487,\n",
       "        -0.74838766, -0.00704158]])"
      ]
     },
     "execution_count": 43,
     "metadata": {},
     "output_type": "execute_result"
    }
   ],
   "source": [
    "from sklearn.preprocessing import StandardScaler\n",
    "\n",
    "#Standardization\n",
    "\n",
    "std_scaler = StandardScaler()\n",
    "std_scaler.fit_transform(X)\n",
    "std_scaler.fit_transform(X_test)\n"
   ]
  },
  {
   "cell_type": "markdown",
   "metadata": {},
   "source": [
    "Then, we perform recursive feature selection with Linear Discriminant Analysis as estimator, scoring method is __f1__. Reason for choosing __f1__ as scoring method is explained below."
   ]
  },
  {
   "cell_type": "code",
   "execution_count": 44,
   "metadata": {},
   "outputs": [],
   "source": [
    "from sklearn.feature_selection import RFECV\n",
    "from sklearn.discriminant_analysis import LinearDiscriminantAnalysis\n",
    "\n",
    "skf = StratifiedKFold(n_splits = 10)\n",
    "lda = LinearDiscriminantAnalysis() \n",
    "\n",
    "rfecv = RFECV(estimator=lda, step=1, cv=skf ,scoring='f1_macro')   #10-fold cross-validation\n",
    "X = rfecv.fit_transform(X,y)"
   ]
  },
  {
   "cell_type": "code",
   "execution_count": 45,
   "metadata": {},
   "outputs": [
    {
     "name": "stdout",
     "output_type": "stream",
     "text": [
      "Optimal number of features: 210\n"
     ]
    },
    {
     "data": {
      "image/png": "[encoded data removed]",
      "text/plain": [
       "<Figure size 432x288 with 1 Axes>"
      ]
     },
     "metadata": {},
     "output_type": "display_data"
    }
   ],
   "source": [
    "import matplotlib.pyplot as plt\n",
    "\n",
    "X_test = rfecv.transform(X_test)\n",
    "print('Optimal number of features:',rfecv.n_features_)\n",
    "\n",
    "plt.xlabel(\"Number of features selected\")\n",
    "plt.ylabel(\"Cross validation score of number of selected features\")\n",
    "plt.plot(range(1, len(rfecv.grid_scores_) + 1), rfecv.grid_scores_)\n",
    "plt.show()\n"
   ]
  },
  {
   "cell_type": "markdown",
   "metadata": {},
   "source": [
    "The train dataset is then split into 2 subsets namely __train__ and __validation__ with a 7:3 ratio."
   ]
  },
  {
   "cell_type": "code",
   "execution_count": 46,
   "metadata": {},
   "outputs": [],
   "source": [
    "\n",
    "seed = 69\n",
    "\n",
    "X_train,X_val,y_train, y_val = train_test_split(X,y,test_size=0.33,random_state = seed)\n"
   ]
  },
  {
   "cell_type": "markdown",
   "metadata": {},
   "source": [
    "Then, we plot the distribution histogram of the train labels."
   ]
  },
  {
   "cell_type": "code",
   "execution_count": 47,
   "metadata": {
    "scrolled": true
   },
   "outputs": [
    {
     "data": {
      "image/png": "[encoded data removed]",
      "text/plain": [
       "<Figure size 432x288 with 1 Axes>"
      ]
     },
     "metadata": {},
     "output_type": "display_data"
    }
   ],
   "source": [
    "\n",
    "# the histogram of the data\n",
    "def plotLabelData(Y):\n",
    "    fig,ax = plt.subplots()\n",
    "    \n",
    "    plt.title('Dataset distribution')\n",
    "    ax.hist(Y, bins=10,rwidth=0.95)\n",
    "    plt.xlabel('Genre')\n",
    "    ax.set_xticks(ticks=range(0,11))\n",
    "    ax.set_xticklabels(range(0,11))\n",
    "    \n",
    "    plt.show()\n",
    "\n",
    "plotLabelData(y_train)"
   ]
  },
  {
   "cell_type": "code",
   "execution_count": 48,
   "metadata": {},
   "outputs": [
    {
     "name": "stdout",
     "output_type": "stream",
     "text": [
      "Pop Rock : 1441 ( 49.3 %)\n",
      "Electronic : 433 ( 14.81 %)\n",
      "Rap : 214 ( 7.32 %)\n",
      "Jazz : 159 ( 5.44 %)\n",
      "Latin : 152 ( 5.2 %)\n",
      "RnB : 171 ( 5.85 %)\n",
      "International : 99 ( 3.39 %)\n",
      "Country : 134 ( 4.58 %)\n",
      "Reggae : 64 ( 2.19 %)\n",
      "Blues : 56 ( 1.92 %)\n",
      "Total:  2923\n"
     ]
    }
   ],
   "source": [
    "#Class distribution, raw data\n",
    "\n",
    "def printGenreDistribution(y):\n",
    "    for i in range(len(genres)):\n",
    "        sample_count = y.ravel().tolist().count(i+1)\n",
    "        sample_percentile = round(sample_count/len(y.tolist())*100, 2)\n",
    "        print (genres[i],\":\",sample_count,\"(\",sample_percentile,\"%)\")\n",
    "    print(\"Total: \",len(y.tolist()))\n",
    "\n",
    "printGenreDistribution(y_train)\n"
   ]
  },
  {
   "cell_type": "markdown",
   "metadata": {},
   "source": [
    "There dataset is  unbalanced. __Pop rock__ genre accounts for more than 50% of all samples.\n",
    "\n"
   ]
  },
  {
   "cell_type": "markdown",
   "metadata": {},
   "source": [
    "The feature space contains of 264 dimensions and is divided into 3 categories namely Rhythm pattern, Chroma and MFCC respectively. Upon investigation, it is suggested that MFCC is frequently used in acoustic sound processing and therefore has the potential score high during features ranking phase. [1]\n"
   ]
  },
  {
   "cell_type": "markdown",
   "metadata": {},
   "source": [
    "## 3. Methods and experiments"
   ]
  },
  {
   "cell_type": "markdown",
   "metadata": {},
   "source": [
    "The overall training procedure consists of 6 steps:\n",
    "1. Trial various algorithms\n",
    "    - For this problem, we decided to experiment the following algorithms: k-neighbors, SVC with rbf kernel, Random Forest classfier and Linear Discriminant Classifier\n",
    "\n",
    "2. Pick out the best algorithms\n",
    "    - Using cross validation, we pick out the 2 models with the best mean score and lowest variance\n",
    "   \n",
    "3. Diagnose overfitting/underfitting\n",
    "    - Predict and observe the score on test set\n",
    " \n",
    "4. Enhancing \n",
    "    - We further elaborate the results and try using Voting ensemble and semi supervised learning  to improve the accuracy. \n",
    "        1. Try semi supervised learning using pseudo labeling.\n",
    "        2. Investigate the if there is change in accuracy score after training with the augmented dataset.\n",
    "        3. Pick out the best algorithms and use Voting ensemble to improve final score.\n",
    "        \n",
    "5. Make prediction on test dataset"
   ]
  },
  {
   "cell_type": "markdown",
   "metadata": {},
   "source": [
    "As noted above, the dataset is unbalanced. Thefore, choosing __accuracy__ as scoring metric will likely produce misleading result, since the model will bias toward the majority class and yield unrealisticly high accuracy score. \n",
    "On the other hand, __precision, recall__ and __f1__ scores which reflect True Positive, False Positive, True Negative, False Negative gives better insight toward the uneven classes. Therefore, we will elaborate on thoses scores when investigating the chosen algorithms. [3]\n"
   ]
  },
  {
   "cell_type": "markdown",
   "metadata": {},
   "source": [
    "We define a helper method that helps printing out the training results\n"
   ]
  },
  {
   "cell_type": "code",
   "execution_count": 49,
   "metadata": {},
   "outputs": [],
   "source": [
    "from sklearn.metrics import balanced_accuracy_score\n",
    "\n",
    "def printResult(y_val,y_pred):\n",
    "    print(\"Accuracy: \",accuracy_score(y_val, y_pred))\n",
    "    print(\"Confusion matrix: \\n\",confusion_matrix(y_val, y_pred))\n",
    "    print(\"Classification report: \\n\",classification_report(y_val, y_pred))"
   ]
  },
  {
   "cell_type": "markdown",
   "metadata": {},
   "source": [
    "## 3.1 Trialing"
   ]
  },
  {
   "cell_type": "code",
   "execution_count": 50,
   "metadata": {},
   "outputs": [],
   "source": [
    "from sklearn.linear_model import SGDClassifier\n",
    "from sklearn.ensemble import RandomForestClassifier\n",
    "from xgboost import XGBClassifier\n",
    "from sklearn.ensemble import ExtraTreesClassifier"
   ]
  },
  {
   "cell_type": "code",
   "execution_count": 51,
   "metadata": {},
   "outputs": [
    {
     "name": "stdout",
     "output_type": "stream",
     "text": [
      "Inital trial algorithms on original dataset\n",
      "SGD: 0.179442 (0.048928)\n",
      "XGB: 0.341946 (0.034352)\n",
      "LDA: 0.431967 (0.033166)\n",
      "RFC: 0.232999 (0.020390)\n",
      "ETC: 0.205628 (0.022840)\n"
     ]
    }
   ],
   "source": [
    "seed = 32\n",
    "\n",
    "models = []\n",
    "models.append(('SGD', SGDClassifier()))\n",
    "models.append(('XGB', XGBClassifier(n_jobs=-1)))\n",
    "models.append(('LDA', LinearDiscriminantAnalysis()))\n",
    "models.append(('RFC', RandomForestClassifier()))\n",
    "models.append(('ETC', ExtraTreesClassifier()))\n",
    "\n",
    "def trialAlgorithms(models,X,y ,scoring='f1_macro'):\n",
    "    results = []\n",
    "    names = []\n",
    "    kfold = StratifiedKFold(n_splits=10, random_state=seed)\n",
    "    for name, model in models:\n",
    "        cv_results = cross_val_score(model, X, y.ravel(), cv=kfold, scoring=scoring)\n",
    "        results.append(cv_results)\n",
    "        names.append(name)\n",
    "        msg = \"%s: %f (%f)\" % (name, cv_results.mean(), cv_results.std())\n",
    "        print(msg)\n",
    "    \n",
    "    return names,models,results\n",
    "\n",
    "print(\"Inital trial algorithms on original dataset\")\n",
    "names,models,results = trialAlgorithms(models,X_train, y_train)\n"
   ]
  },
  {
   "cell_type": "markdown",
   "metadata": {},
   "source": [
    "Initial result shows that XGBoost and Linear Discriminant algorithms yield the highest accuracy score. Therefore, we further try to tune the hypermeters and train the two models."
   ]
  },
  {
   "cell_type": "code",
   "execution_count": 52,
   "metadata": {},
   "outputs": [
    {
     "data": {
      "image/png": "[encoded data removed]",
      "text/plain": [
       "<Figure size 432x288 with 1 Axes>"
      ]
     },
     "metadata": {},
     "output_type": "display_data"
    }
   ],
   "source": [
    "def plotBenchmarkResults(results,names):\n",
    "    # Compare Algorithms\n",
    "    fig = plt.figure()\n",
    "    fig.suptitle('Algorithm Comparison')\n",
    "    plt.ylabel('f1-scores')\n",
    "    plt.xlabel('Algorithms')\n",
    "    ax = fig.add_subplot(111)\n",
    "    plt.boxplot(results)\n",
    "    ax.set_xticklabels(names)\n",
    "    plt.show()\n",
    "\n",
    "plotBenchmarkResults(results,names)"
   ]
  },
  {
   "cell_type": "markdown",
   "metadata": {},
   "source": [
    "The boxplot depicts the result from cross-validation scores. The variance and median is both acceptable, which means that the models are doing fine on the given dataset."
   ]
  },
  {
   "cell_type": "markdown",
   "metadata": {},
   "source": [
    "## 3.2 Predict using selected models"
   ]
  },
  {
   "cell_type": "markdown",
   "metadata": {},
   "source": [
    "Firstly, we examine training the data on XGBoost model [2]. The hyperparameters were tuned using GridSearchCV. The tuning process takes a lot of time hence results in the selected hyperparameters."
   ]
  },
  {
   "cell_type": "code",
   "execution_count": 53,
   "metadata": {},
   "outputs": [
    {
     "name": "stdout",
     "output_type": "stream",
     "text": [
      "Accuracy:  0.657638888889\n",
      "Confusion matrix: \n",
      " [[683  66  25  40  41  43  33  54   9  24]\n",
      " [ 29 108   8  13   0   5   3   0   3   0]\n",
      " [ 12  10  74   0   2  12   2   1   7   0]\n",
      " [  1   0   0  37   1   2   1   0   0   1]\n",
      " [  2   0   1   0   9   1   1   1   1   2]\n",
      " [  6   1   3   4   5  26   2   0   3   1]\n",
      " [  1   0   0   0   0   0   0   0   0   1]\n",
      " [  1   0   0   0   0   0   0   5   0   1]\n",
      " [  1   0   1   0   3   0   0   0   5   0]\n",
      " [  1   0   0   0   1   0   0   0   0   0]]\n",
      "Classification report: \n",
      "               precision    recall  f1-score   support\n",
      "\n",
      "           1       0.93      0.67      0.78      1018\n",
      "           2       0.58      0.64      0.61       169\n",
      "           3       0.66      0.62      0.64       120\n",
      "           4       0.39      0.86      0.54        43\n",
      "           5       0.15      0.50      0.23        18\n",
      "           6       0.29      0.51      0.37        51\n",
      "           7       0.00      0.00      0.00         2\n",
      "           8       0.08      0.71      0.15         7\n",
      "           9       0.18      0.50      0.26        10\n",
      "          10       0.00      0.00      0.00         2\n",
      "\n",
      "   micro avg       0.66      0.66      0.66      1440\n",
      "   macro avg       0.33      0.50      0.36      1440\n",
      "weighted avg       0.80      0.66      0.71      1440\n",
      "\n"
     ]
    }
   ],
   "source": [
    "\n",
    "#Trial XGB\n",
    "\n",
    "def trialXGB(X,y,X_val=X_val):\n",
    "\n",
    "    xgb = XGBClassifier(learning_rate =0.01,\n",
    "                             n_estimators=1000,\n",
    "                             max_depth=10,\n",
    "                             min_child_weight=1,\n",
    "                             gamma=0,\n",
    "                             subsample=0.8,\n",
    "                             colsample_bytree=0.8,\n",
    "                             objective= 'binary:logistic',\n",
    "                             nthread=4,\n",
    "                             scale_pos_weight=1,\n",
    "                             seed=69,\n",
    "                              n_jobs=-1)\n",
    "    xgb.fit(X,y.ravel())\n",
    "    y_pred = xgb.predict(X_val)\n",
    "    printResult(y_pred,y_val)\n",
    "    return xgb\n",
    "\n",
    "xgb = trialXGB(X_train,y_train)"
   ]
  },
  {
   "cell_type": "markdown",
   "metadata": {},
   "source": [
    "Next, we construct a LDA classifier and observe its accuracy when predicting the validation dataset"
   ]
  },
  {
   "cell_type": "code",
   "execution_count": 54,
   "metadata": {},
   "outputs": [
    {
     "name": "stdout",
     "output_type": "stream",
     "text": [
      "Accuracy:  0.66875\n",
      "Confusion matrix: \n",
      " [[630  43  18  23  28  24  14  32   1  11]\n",
      " [ 39 114   6   7   1   2   3   0   3   0]\n",
      " [  7   8  73   0   2  11   1   1   4   1]\n",
      " [ 12   9   1  49   2   4   2   0   0   2]\n",
      " [  8   3   1   1  11   6   7   1   2   4]\n",
      " [ 12   2   3   8   7  37   4   1   5   3]\n",
      " [  4   3   0   1   2   0   6   0   0   1]\n",
      " [ 14   0   3   2   1   2   3  24   0   1]\n",
      " [  2   3   7   0   6   2   1   0  13   1]\n",
      " [  9   0   0   3   2   1   1   2   0   6]]\n",
      "Classification report: \n",
      "               precision    recall  f1-score   support\n",
      "\n",
      "           1       0.85      0.76      0.81       824\n",
      "           2       0.62      0.65      0.63       175\n",
      "           3       0.65      0.68      0.66       108\n",
      "           4       0.52      0.60      0.56        81\n",
      "           5       0.18      0.25      0.21        44\n",
      "           6       0.42      0.45      0.43        82\n",
      "           7       0.14      0.35      0.20        17\n",
      "           8       0.39      0.48      0.43        50\n",
      "           9       0.46      0.37      0.41        35\n",
      "          10       0.20      0.25      0.22        24\n",
      "\n",
      "   micro avg       0.67      0.67      0.67      1440\n",
      "   macro avg       0.44      0.49      0.46      1440\n",
      "weighted avg       0.70      0.67      0.68      1440\n",
      "\n"
     ]
    }
   ],
   "source": [
    "\n",
    "#Trial LDA\n",
    "def trialLDA(X,y,X_val=X_val):\n",
    "    lda = LinearDiscriminantAnalysis()\n",
    "    lda.fit(X,y.ravel())\n",
    "    y_pred = lda.predict(X_val)\n",
    "    printResult(y_pred,y_val)\n",
    "    return lda\n",
    "\n",
    "lda = trialLDA(X_train,y_train)"
   ]
  },
  {
   "cell_type": "markdown",
   "metadata": {},
   "source": [
    "The model yields a 63% accuracy score which beats the benchmark. However, when observing the confusion matrix, we can see that the model often mislabel the minority genres. F1 score is noticeably low on class number 5, 7 and 10 where almost 50% of the sample is classified as belonging to class number 1.\n",
    "\n",
    "Next, we examine Random Forest Classifier. This time we provide the classifier with some class weights. The idea is to heavily penalize misclassfication in minority classes."
   ]
  },
  {
   "cell_type": "code",
   "execution_count": 55,
   "metadata": {},
   "outputs": [
    {
     "name": "stdout",
     "output_type": "stream",
     "text": [
      "Accuracy:  0.626388888889\n",
      "Confusion matrix: \n",
      " [[616  60  16  24  29  13  25  33   2  15]\n",
      " [ 41 100  14  23   3   7   2   0   7   1]\n",
      " [ 15  16  77   0   7  17   2   1  11   2]\n",
      " [ 11   8   0  40   3   4   3   2   0   4]\n",
      " [  8   0   0   1   9   5   3   2   1   2]\n",
      " [ 17   1   3   6   9  36   3   4   2   3]\n",
      " [  1   0   0   0   0   0   0   0   0   0]\n",
      " [ 27   0   0   0   2   6   4  18   0   2]\n",
      " [  1   0   2   0   0   0   0   0   5   0]\n",
      " [  0   0   0   0   0   1   0   1   0   1]]\n",
      "Classification report: \n",
      "               precision    recall  f1-score   support\n",
      "\n",
      "           1       0.84      0.74      0.78       833\n",
      "           2       0.54      0.51      0.52       198\n",
      "           3       0.69      0.52      0.59       148\n",
      "           4       0.43      0.53      0.47        75\n",
      "           5       0.15      0.29      0.19        31\n",
      "           6       0.40      0.43      0.42        84\n",
      "           7       0.00      0.00      0.00         1\n",
      "           8       0.30      0.31      0.30        59\n",
      "           9       0.18      0.62      0.28         8\n",
      "          10       0.03      0.33      0.06         3\n",
      "\n",
      "   micro avg       0.63      0.63      0.63      1440\n",
      "   macro avg       0.35      0.43      0.36      1440\n",
      "weighted avg       0.69      0.63      0.65      1440\n",
      "\n"
     ]
    }
   ],
   "source": [
    "\n",
    "#Trial Random Forest\n",
    "\n",
    "def trialRFC(X,y,X_val=X_val,class_weight='balanced'):\n",
    "    rfc = RandomForestClassifier(class_weight=class_weight,\n",
    "                                 n_estimators=1000,\n",
    "                                 max_features = 'auto',\n",
    "                                 min_samples_leaf = 1,\n",
    "                                 max_depth=10)\n",
    "    rfc.fit(X,y.ravel())\n",
    "    y_pred = rfc.predict(X_val)\n",
    "    printResult(y_pred,y_val)\n",
    "    return rfc\n",
    "\n",
    "rfc = trialRFC(X_train,y_train)\n"
   ]
  },
  {
   "cell_type": "markdown",
   "metadata": {},
   "source": [
    "The model with provided hyperparameters yields better accuracy compared to the previous default one. Recall score is still low and the model tends to misclassify the majority class rather than giving a false positive results on the minority class.\n",
    "\n",
    "Since the dataset is unbalanced, it is likely that the predicted results will be highly biased towards the majority class. The training results confirm our assumption and thefore we decided to try resampling the classes to make the data distribution more balanced. The balanced dataset will be used to train the previous models. [4]\n"
   ]
  },
  {
   "cell_type": "markdown",
   "metadata": {},
   "source": [
    "### 3.3. Resampling"
   ]
  },
  {
   "cell_type": "markdown",
   "metadata": {},
   "source": [
    "One approach to improve training result on unbalanced dataset is to try rebalance them by either create more samples for the minority class (oversampling) or delete samples from the majority class (undersampling). Given that the training dataset is quite small (<10000 samples), undersampling may eventually lead to underfitting. Therefore, we try to oversampling the dataset using Synthetic Minority Over-sampling technique (SMOTE) [5]."
   ]
  },
  {
   "cell_type": "code",
   "execution_count": 56,
   "metadata": {},
   "outputs": [
    {
     "data": {
      "image/png": "[encoded data removed]",
      "text/plain": [
       "<Figure size 432x288 with 1 Axes>"
      ]
     },
     "metadata": {},
     "output_type": "display_data"
    }
   ],
   "source": [
    "from imblearn.over_sampling import SMOTE\n",
    "\n",
    "def balancedDatasetUsingRandomOverSampler(X,y,sampling_strategy={}):\n",
    "    smote = SMOTE()\n",
    "    X_res,y_res = smote.fit_resample(X,y.ravel())\n",
    "    return X_res,y_res\n",
    "\n",
    "X_oversampled, y_oversampled = balancedDatasetUsingRandomOverSampler(X_train,y_train)\n",
    "plotLabelData(y_oversampled)\n"
   ]
  },
  {
   "cell_type": "code",
   "execution_count": 1,
   "metadata": {},
   "outputs": [
    {
     "ename": "NameError",
     "evalue": "name 'xgb' is not defined",
     "output_type": "error",
     "traceback": [
      "\u001b[0;31m---------------------------------------------------------------------------\u001b[0m",
      "\u001b[0;31mNameError\u001b[0m                                 Traceback (most recent call last)",
      "\u001b[0;32m<ipython-input-1-b10197f7d415>\u001b[0m in \u001b[0;36m<module>\u001b[0;34m\u001b[0m\n\u001b[1;32m      1\u001b[0m \u001b[0mselected_models\u001b[0m \u001b[0;34m=\u001b[0m \u001b[0;34m[\u001b[0m\u001b[0;34m]\u001b[0m\u001b[0;34m\u001b[0m\u001b[0m\n\u001b[0;32m----> 2\u001b[0;31m \u001b[0mselected_models\u001b[0m\u001b[0;34m.\u001b[0m\u001b[0mappend\u001b[0m\u001b[0;34m(\u001b[0m\u001b[0;34m(\u001b[0m\u001b[0;34m'XGB'\u001b[0m\u001b[0;34m,\u001b[0m \u001b[0mxgb\u001b[0m\u001b[0;34m)\u001b[0m\u001b[0;34m)\u001b[0m\u001b[0;34m\u001b[0m\u001b[0m\n\u001b[0m\u001b[1;32m      3\u001b[0m \u001b[0mselected_models\u001b[0m\u001b[0;34m.\u001b[0m\u001b[0mappend\u001b[0m\u001b[0;34m(\u001b[0m\u001b[0;34m(\u001b[0m\u001b[0;34m'LDA'\u001b[0m\u001b[0;34m,\u001b[0m \u001b[0mlda\u001b[0m\u001b[0;34m)\u001b[0m\u001b[0;34m)\u001b[0m\u001b[0;34m\u001b[0m\u001b[0m\n\u001b[1;32m      4\u001b[0m \u001b[0mselected_models\u001b[0m\u001b[0;34m.\u001b[0m\u001b[0mappend\u001b[0m\u001b[0;34m(\u001b[0m\u001b[0;34m(\u001b[0m\u001b[0;34m'RFC'\u001b[0m\u001b[0;34m,\u001b[0m \u001b[0mrfc\u001b[0m\u001b[0;34m)\u001b[0m\u001b[0;34m)\u001b[0m\u001b[0;34m\u001b[0m\u001b[0m\n\u001b[1;32m      5\u001b[0m \u001b[0mnames\u001b[0m\u001b[0;34m,\u001b[0m \u001b[0mmodels\u001b[0m\u001b[0;34m,\u001b[0m \u001b[0mresults\u001b[0m \u001b[0;34m=\u001b[0m \u001b[0mtrialAlgorithms\u001b[0m\u001b[0;34m(\u001b[0m\u001b[0mselected_models\u001b[0m\u001b[0;34m,\u001b[0m\u001b[0mX_oversampled\u001b[0m\u001b[0;34m,\u001b[0m \u001b[0my_oversampled\u001b[0m\u001b[0;34m,\u001b[0m\u001b[0mscoring\u001b[0m\u001b[0;34m=\u001b[0m\u001b[0;34m'f1_macro'\u001b[0m\u001b[0;34m)\u001b[0m\u001b[0;34m\u001b[0m\u001b[0m\n",
      "\u001b[0;31mNameError\u001b[0m: name 'xgb' is not defined"
     ]
    }
   ],
   "source": [
    "selected_models = []\n",
    "selected_models.append(('XGB', xgb))\n",
    "selected_models.append(('LDA', lda))\n",
    "selected_models.append(('RFC', rfc))\n",
    "names, models, results = trialAlgorithms(selected_models,X_oversampled, y_oversampled,scoring='f1_macro')\n",
    "plotBenchmarkResults(results,names)"
   ]
  },
  {
   "cell_type": "markdown",
   "metadata": {},
   "source": [
    "Overall, we observe an increase in f1 score when trialling with the oversampled dataset. However, the variance is high as well which suggests overfitting in the models."
   ]
  },
  {
   "cell_type": "markdown",
   "metadata": {},
   "source": [
    "Next, we train the previous models with the resampled data"
   ]
  },
  {
   "cell_type": "code",
   "execution_count": null,
   "metadata": {},
   "outputs": [],
   "source": [
    "#XGB\n",
    "print('Accuracy report for XGB')\n",
    "trialXGB(X_oversampled, y_oversampled)\n",
    "\n",
    "#LDA\n",
    "print('Accuracy report for LDA')\n",
    "trialLDA(X_oversampled,y_oversampled)\n",
    "\n",
    "#RC\n",
    "print('Accuracy report for RFC')\n",
    "trialRFC(X_oversampled,y_oversampled,class_weight=None)\n"
   ]
  },
  {
   "cell_type": "markdown",
   "metadata": {},
   "source": [
    "Training the selected models with the resampled dataset results in a dramatic drop in accuracy and precision, recall, f1 score. For the simplicity of this project, we decided not to further elaborate on the result when training with oversampled dataset, but focus on other enhancement methods."
   ]
  },
  {
   "cell_type": "markdown",
   "metadata": {},
   "source": [
    "## 3.4 Enhancement methods"
   ]
  },
  {
   "cell_type": "markdown",
   "metadata": {},
   "source": [
    "### 3.4.1 Pseudo label"
   ]
  },
  {
   "cell_type": "markdown",
   "metadata": {},
   "source": [
    "We try to enhancing the model's accuracy by applying semi supervised learning. The idea of semi supervised is that, after training a model with the train data, we create pseudo labels from the training result and add them into the current training set. By doing so, we are trying to improve the decision boundary of the model and therefore hoping for an improvement in training's result. [6]\n"
   ]
  },
  {
   "cell_type": "code",
   "execution_count": null,
   "metadata": {},
   "outputs": [],
   "source": [
    "from sklearn.utils import shuffle\n",
    "\n",
    "def create_augmented_train(model, X_train, y_train, X_val, target, sample_rate = 0.6):\n",
    "    '''\n",
    "    Create and return the augmented_train set that consists\n",
    "    of pseudo-labeled and labeled data.\n",
    "    '''\n",
    "    num_of_samples = int(len(X_val) * sample_rate)\n",
    "    entry_index = random.randint(0, len(X_val)-num_of_samples)\n",
    "    # Train the model and create the pseudo-labels\n",
    "    model.fit(X_train, y_train)\n",
    "    pseudo_labels = model.predict(X_val)\n",
    "    \n",
    "    X_train_pseudo = X_val[entry_index:entry_index+num_of_samples,:]\n",
    "    y_train_pseudo = pseudo_labels[entry_index:entry_index+num_of_samples]\n",
    "\n",
    "    X_train_augmented = np.vstack((X_train,X_train_pseudo))\n",
    "    y_train_augmented = np.vstack((y_train,y_train_pseudo.reshape((y_train_pseudo.shape[0], 1))))\n",
    "    \n",
    "    X_train_augmented, y_train_augmented = shuffle(X_train_augmented,y_train_augmented,random_state=342)\n",
    "    return X_train_augmented, y_train_augmented\n"
   ]
  },
  {
   "cell_type": "code",
   "execution_count": null,
   "metadata": {},
   "outputs": [],
   "source": [
    "#Traning XGB with augmented labels\n",
    "\n",
    "X_train_augmented,y_train_augmented = create_augmented_train(xgb,X_train,y_train,X_val,y_val,sample_rate=0.2)\n",
    "xgb.fit(X_train_augmented,y_train_augmented)\n",
    "y_pred = xgb.predict(X_val)\n",
    "printResult(y_pred,y_val)"
   ]
  },
  {
   "cell_type": "code",
   "execution_count": null,
   "metadata": {},
   "outputs": [],
   "source": [
    "#Traning LDA with augmented labels\n",
    "\n",
    "X_train_augmented,y_train_augmented = create_augmented_train(lda,X_train,y_train,X_val,y_val,sample_rate = 0.3)\n",
    "lda.fit(X_train_augmented,y_train_augmented)\n",
    "y_pred = lda.predict(X_val)\n",
    "printResult(y_pred,y_val)"
   ]
  },
  {
   "cell_type": "code",
   "execution_count": null,
   "metadata": {},
   "outputs": [],
   "source": [
    "#Traning RC with augmented labels\n",
    "\n",
    "X_train_augmented,y_train_augmented = create_augmented_train(rfc,X_train,y_train,X_val,y_val,sample_rate=0.6)\n",
    "rfc.fit(X_train_augmented,y_train_augmented)\n",
    "y_pred = rfc.predict(X_val)\n",
    "printResult(y_pred,y_val)"
   ]
  },
  {
   "cell_type": "markdown",
   "metadata": {},
   "source": [
    "Overall, we observe a slight improvement in accuracy score when training with the augmented data."
   ]
  },
  {
   "cell_type": "markdown",
   "metadata": {},
   "source": [
    "### 3.4.2 Voting"
   ]
  },
  {
   "cell_type": "markdown",
   "metadata": {},
   "source": [
    "Finally, we put all the best classifiers we have trained so far into a Voting ensemble. Given the past performance of the model, we assign some scales, in a sense that better models will be given heavier scales, hence have more impact on the final decision. [7]"
   ]
  },
  {
   "cell_type": "code",
   "execution_count": null,
   "metadata": {},
   "outputs": [],
   "source": [
    "from sklearn.ensemble import VotingClassifier\n",
    "\n",
    "X_train_augmented,y_train_augmented = create_augmented_train(lda,X_train,y_train,X_val,y_val)\n",
    "voting = VotingClassifier(estimators=[('lda',lda),('xgb',xgb),('rfc',rfc)],voting='soft',weights=[1.3,.8,0.6],n_jobs=-1)\n",
    "voting.fit(X_train_augmented,y_train_augmented)\n",
    "y_pred = voting.predict(X_val)\n",
    "printResult(y_pred,y_val)"
   ]
  },
  {
   "cell_type": "markdown",
   "metadata": {},
   "source": [
    "## 4. Results"
   ]
  },
  {
   "cell_type": "code",
   "execution_count": null,
   "metadata": {},
   "outputs": [],
   "source": [
    "def printAccuracy(y):\n",
    "    df = pd.DataFrame(y)\n",
    "    df.index+=1\n",
    "    df.index.name = 'Sample_id'\n",
    "    df.columns =['Sample_label']\n",
    "    df.to_csv('final_acc.csv')\n",
    "\n",
    "y_test_pred = voting.predict(X_test)\n",
    "\n",
    "printAccuracy(y_test_pred)"
   ]
  },
  {
   "cell_type": "code",
   "execution_count": null,
   "metadata": {},
   "outputs": [],
   "source": [
    "def printLogloss(y):\n",
    "    df = pd.DataFrame(y)\n",
    "    df.index+=1\n",
    "    df.index.name = 'Sample_id'\n",
    "    df.columns =['Class_1','Class_2','Class_3','Class_4','Class_5','Class_6','Class_7','Class_8','Class_9','Class_10']\n",
    "    df.to_csv('final_logloss.csv')\n",
    "    \n",
    "y_test_pred = voting.predict_proba(X_test)\n",
    "printLogloss(y_test_pred)"
   ]
  },
  {
   "cell_type": "markdown",
   "metadata": {},
   "source": [
    "\n",
    "The best score the model achieved in Kaggle for accuracy competition was 66.53%, which is approximately 1% lower compared to the test data.\n",
    "\n",
    "The best score the model achieved in Kaggle for log-loss competition was 17.23%."
   ]
  },
  {
   "cell_type": "markdown",
   "metadata": {},
   "source": [
    "## 5. Discussion/Conclusions"
   ]
  },
  {
   "cell_type": "markdown",
   "metadata": {},
   "source": [
    "Accuracy metric tends to be a misleading measure when working with imbalanced dataset. Often the model will tend to classify all samples as the majority class and easily achieve a high accuracy score. In this case, the accuracy score is better than 50%, since the majority class accounts for 50% of all samples.\n",
    "\n",
    "Investigating the classification report, we observe a low accuracy and a good recall point for the majority class. Whereas, as can be observed from the confusion matrix, the model performs poorly on the minority classes, often misclassfies them as the majority class. The model perform poorly on particular class (5th, 7th, 10th), achieves less than 10% in recall score.\n",
    "\n",
    "Resampling did not really help improve the model performance in this case. The result after resampling suggested that there was an overfit in the model when training with the oversampled dataset. This in turn led to low accuracy when predicting the values from validation set. Better tuning of features set could help the cause. Although, on the other hand, our main approach was to tune the model so that it could deal better with imbalanced data (assigning weights for classes etc.), therefore we did not spend so much time on model tuning for resampled dataset.\n",
    "\n",
    "The project also illustrated the importance of feature engineering. For the first few entries, we put our focus on hyperparameters tuning and models choice. The outcome was not impressive since the accuracy score did not increase significantly. After experimenting with different feature engineering methods, we observed a notable improvement after performing Recursive Feature Elimination. Training the refined features boost the model performance by a certain degree. The outcome accuracy raised by 4% which saw a 150 rank jump in Kaggle.\n",
    "\n",
    "Additionally, the Kaggle's accuracy score was higher compared to the logloss one. That was mainly due to how we constructed the model at first place, focused entirely on improving its accuracy outcome. Slight adjustment for measurement metrics could help\n",
    "\n"
   ]
  },
  {
   "cell_type": "markdown",
   "metadata": {},
   "source": [
    "## 6. References"
   ]
  },
  {
   "cell_type": "markdown",
   "metadata": {},
   "source": [
    "[1] Michael Haggblade, Yang Hong and Kenny Kao, \"Music Genre Classification\", http://cs229.stanford.edu/proj2011/HaggbladeHongKao-MusicGenreClassification.pdf"
   ]
  },
  {
   "cell_type": "markdown",
   "metadata": {},
   "source": [
    "[2] Boosting (Machine learning) - Wikipedia, the free encyclopedia, https://en.wikipedia.org/wiki/Boosting_(machine_learning)"
   ]
  },
  {
   "cell_type": "markdown",
   "metadata": {},
   "source": [
    "[3] Ping Shung Koo, \"Accuracy, Precision, Recall or F1?\" ,https://towardsdatascience.com/accuracy-precision-recall-or-f1-331fb37c5cb9"
   ]
  },
  {
   "cell_type": "markdown",
   "metadata": {},
   "source": [
    "[4] Sabber Ahamed,\"Three techniques to improve machine learning model performance with imbalance datasets\",https://towardsdatascience.com/working-with-highly-imbalanced-datasets-in-machine-learning-projects-c70c5f2a7b16"
   ]
  },
  {
   "cell_type": "markdown",
   "metadata": {},
   "source": [
    "[5] Nitesh V. Chawla et al. , \"SMOTE: Synthetic Minority Over-sampling Technique\" , https://arxiv.org/pdf/1106.1813.pdf"
   ]
  },
  {
   "cell_type": "markdown",
   "metadata": {},
   "source": [
    "[6] Shubham Jain,\"Introduction to Pseudo-Labelling : A Semi-Supervised learning technique\",https://www.analyticsvidhya.com/blog/2017/09/pseudo-labelling-semi-supervised-learning-technique/"
   ]
  },
  {
   "cell_type": "markdown",
   "metadata": {},
   "source": [
    "[7] Ensemble learning - Wikipedia, the free encyclopedia,https://en.wikipedia.org/wiki/Ensemble_learning"
   ]
  },
  {
   "cell_type": "code",
   "execution_count": null,
   "metadata": {},
   "outputs": [],
   "source": []
  }
 ],
 "metadata": {
  "kernelspec": {
   "display_name": "Python 3",
   "language": "python",
   "name": "python3"
  },
  "language_info": {
   "codemirror_mode": {
    "name": "ipython",
    "version": 3
   },
   "file_extension": ".py",
   "mimetype": "text/x-python",
   "name": "python",
   "nbconvert_exporter": "python",
   "pygments_lexer": "ipython3",
   "version": "3.6.8"
  }
 },
 "nbformat": 4,
 "nbformat_minor": 2
}
